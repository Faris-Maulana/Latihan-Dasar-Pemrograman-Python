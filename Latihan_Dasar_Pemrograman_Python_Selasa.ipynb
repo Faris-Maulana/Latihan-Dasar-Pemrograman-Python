{
  "nbformat": 4,
  "nbformat_minor": 0,
  "metadata": {
    "kernelspec": {
      "display_name": "Python 3",
      "language": "python",
      "name": "python3"
    },
    "language_info": {
      "codemirror_mode": {
        "name": "ipython",
        "version": 3
      },
      "file_extension": ".py",
      "mimetype": "text/x-python",
      "name": "python",
      "nbconvert_exporter": "python",
      "pygments_lexer": "ipython3",
      "version": "3.8.3"
    },
    "colab": {
      "name": "Latihan Dasar Pemrograman Python - Selasa.ipynb",
      "provenance": [],
      "collapsed_sections": []
    }
  },
  "cells": [
    {
      "cell_type": "markdown",
      "metadata": {
        "id": "5kAHSBCVKTXw"
      },
      "source": [
        "# Dasar Pemrograman Python"
      ]
    },
    {
      "cell_type": "markdown",
      "metadata": {
        "id": "LlEyExd5KTX3"
      },
      "source": [
        "##  1. Variabel\n",
        "> Tempat untuk menyimpan data dengan tipe tertentu"
      ]
    },
    {
      "cell_type": "markdown",
      "metadata": {
        "id": "3drLwe4mKTX4"
      },
      "source": [
        "## 2. Tipe Data Primitif (Dasar)\n",
        "1. String\n",
        "2. Integer\n",
        "3. Float\n",
        "4. Boolean"
      ]
    },
    {
      "cell_type": "code",
      "metadata": {
        "id": "ayM23PKUKTX5"
      },
      "source": [
        "# Contoh tipe data String\n",
        "nama = \"Maudya Faza Ayunda\"\n",
        "\n",
        "# Contoh tipe data Integer\n",
        "umur = 25\n",
        "\n",
        "# Contoh tipe data Float\n",
        "berat_badan = 56.23\n",
        "\n",
        "# Contoh tipe data Boolean\n",
        "status_pernikahan = True"
      ],
      "execution_count": null,
      "outputs": []
    },
    {
      "cell_type": "code",
      "metadata": {
        "id": "LfwPXjMrKTX6"
      },
      "source": [
        "print(\"Nama                : \", nama)\n",
        "print(\"Umur                : \", umur, \"Tahun\")\n",
        "print(\"Berat Badan         : \", berat_badan)\n",
        "print(\"Status Pernikahan   : \", status_pernikahan)"
      ],
      "execution_count": null,
      "outputs": []
    },
    {
      "cell_type": "markdown",
      "metadata": {
        "id": "_P4ocqMvKTX7"
      },
      "source": [
        "---"
      ]
    },
    {
      "cell_type": "markdown",
      "metadata": {
        "id": "hlVscBVAKTX7"
      },
      "source": [
        "## 3. Tipe data turunan (Non-Primitive)\n",
        "1. Array\n",
        "2. List\n",
        "3. Tupple\n",
        "4. Dictionary\n",
        "5. Set\n",
        "6. File"
      ]
    },
    {
      "cell_type": "markdown",
      "metadata": {
        "id": "VvaphHnBKTX8"
      },
      "source": [
        "### 3.1 Array\n",
        "![Tipe Array](https://media.geeksforgeeks.org/wp-content/uploads/CommonArticleDesign2-min.png)"
      ]
    },
    {
      "cell_type": "code",
      "metadata": {
        "id": "1VtrmNw5KTX8",
        "colab": {
          "base_uri": "https://localhost:8080/"
        },
        "outputId": "a3a9b37e-d823-4fd0-c198-fbddaf07d4aa"
      },
      "source": [
        "import array as arr\n",
        "# Contoh Array\n",
        "# value dalam array harus memiliki tipe data yang sama\n",
        "# I untuk unsigned integer (integer positif), lihat gambar di atas\n",
        "apapun_array = arr.array(\"I\", [1,4,8,12,16])\n",
        "print(apapun_array)"
      ],
      "execution_count": null,
      "outputs": [
        {
          "output_type": "stream",
          "name": "stdout",
          "text": [
            "array('I', [1, 4, 8, 12, 16])\n"
          ]
        }
      ]
    },
    {
      "cell_type": "code",
      "metadata": {
        "id": "ZSYyGkQqKTX9",
        "colab": {
          "base_uri": "https://localhost:8080/",
          "height": 195
        },
        "outputId": "c26a9fc7-6bcb-4a29-eceb-c48b96f8a299"
      },
      "source": [
        "# Array akan error apabila didalamnya terdapat tipe data yang berbeda\n",
        "bilangan_kelipatan_tiga = arr.array(\"I\", [1,3,\"enam\",9])\n",
        "print(bilangan_kelipatan_tiga)"
      ],
      "execution_count": null,
      "outputs": [
        {
          "output_type": "error",
          "ename": "NameError",
          "evalue": "ignored",
          "traceback": [
            "\u001b[0;31m---------------------------------------------------------------------------\u001b[0m",
            "\u001b[0;31mNameError\u001b[0m                                 Traceback (most recent call last)",
            "\u001b[0;32m<ipython-input-7-cfe717ff9765>\u001b[0m in \u001b[0;36m<module>\u001b[0;34m()\u001b[0m\n\u001b[1;32m      1\u001b[0m \u001b[0;31m# Array akan error apabila didalamnya terdapat tipe data yang berbeda\u001b[0m\u001b[0;34m\u001b[0m\u001b[0;34m\u001b[0m\u001b[0;34m\u001b[0m\u001b[0m\n\u001b[0;32m----> 2\u001b[0;31m \u001b[0mbilangan_kelipatan_tiga\u001b[0m \u001b[0;34m=\u001b[0m \u001b[0marr\u001b[0m\u001b[0;34m.\u001b[0m\u001b[0marray\u001b[0m\u001b[0;34m(\u001b[0m\u001b[0;34m\"I\"\u001b[0m\u001b[0;34m,\u001b[0m \u001b[0;34m[\u001b[0m\u001b[0;36m1\u001b[0m\u001b[0;34m,\u001b[0m\u001b[0;36m3\u001b[0m\u001b[0;34m,\u001b[0m\u001b[0;34m\"enam\"\u001b[0m\u001b[0;34m,\u001b[0m\u001b[0;36m9\u001b[0m\u001b[0;34m]\u001b[0m\u001b[0;34m)\u001b[0m\u001b[0;34m\u001b[0m\u001b[0;34m\u001b[0m\u001b[0m\n\u001b[0m\u001b[1;32m      3\u001b[0m \u001b[0mprint\u001b[0m\u001b[0;34m(\u001b[0m\u001b[0mbilangan_kelipatan_tiga\u001b[0m\u001b[0;34m)\u001b[0m\u001b[0;34m\u001b[0m\u001b[0;34m\u001b[0m\u001b[0m\n",
            "\u001b[0;31mNameError\u001b[0m: name 'arr' is not defined"
          ]
        }
      ]
    },
    {
      "cell_type": "markdown",
      "metadata": {
        "id": "uiwvE_78KTX9"
      },
      "source": [
        "### 3.2 List"
      ]
    },
    {
      "cell_type": "code",
      "metadata": {
        "id": "9KUwlkbpKTX-",
        "colab": {
          "base_uri": "https://localhost:8080/"
        },
        "outputId": "a0e3ec13-1be4-4da4-974f-35495f1170ce"
      },
      "source": [
        "# Value / nilai dalam list boleh memiliki tipe data yang berbeda\n",
        "apapun_list = [\"satu\", 2, 3, 4.5, True]\n",
        "print(apapun_list)"
      ],
      "execution_count": null,
      "outputs": [
        {
          "output_type": "stream",
          "name": "stdout",
          "text": [
            "['satu', 2, 3, 4.5, True]\n"
          ]
        }
      ]
    },
    {
      "cell_type": "markdown",
      "metadata": {
        "id": "rN3q7RHQKTX-"
      },
      "source": [
        "### 3.3 Tupple\n",
        "> List yang isinya tidak bisa diubah."
      ]
    },
    {
      "cell_type": "code",
      "metadata": {
        "id": "4E7NeE5zKTX_",
        "colab": {
          "base_uri": "https://localhost:8080/",
          "height": 195
        },
        "outputId": "cc855823-8aab-48f2-ca29-1629f1341209"
      },
      "source": [
        "apapun_tupple = (1,2,3,4,5)\n",
        "apapun_tupple[0] = -100\n",
        "print(apapun_tupple)"
      ],
      "execution_count": null,
      "outputs": [
        {
          "output_type": "error",
          "ename": "TypeError",
          "evalue": "ignored",
          "traceback": [
            "\u001b[0;31m---------------------------------------------------------------------------\u001b[0m",
            "\u001b[0;31mTypeError\u001b[0m                                 Traceback (most recent call last)",
            "\u001b[0;32m<ipython-input-14-86d302b82000>\u001b[0m in \u001b[0;36m<module>\u001b[0;34m()\u001b[0m\n\u001b[1;32m      1\u001b[0m \u001b[0mapapun_tupple\u001b[0m \u001b[0;34m=\u001b[0m \u001b[0;34m(\u001b[0m\u001b[0;36m1\u001b[0m\u001b[0;34m,\u001b[0m\u001b[0;36m2\u001b[0m\u001b[0;34m,\u001b[0m\u001b[0;36m3\u001b[0m\u001b[0;34m,\u001b[0m\u001b[0;36m4\u001b[0m\u001b[0;34m,\u001b[0m\u001b[0;36m5\u001b[0m\u001b[0;34m)\u001b[0m\u001b[0;34m\u001b[0m\u001b[0;34m\u001b[0m\u001b[0m\n\u001b[0;32m----> 2\u001b[0;31m \u001b[0mapapun_tupple\u001b[0m\u001b[0;34m[\u001b[0m\u001b[0;36m0\u001b[0m\u001b[0;34m]\u001b[0m \u001b[0;34m=\u001b[0m \u001b[0;34m-\u001b[0m\u001b[0;36m100\u001b[0m\u001b[0;34m\u001b[0m\u001b[0;34m\u001b[0m\u001b[0m\n\u001b[0m\u001b[1;32m      3\u001b[0m \u001b[0mprint\u001b[0m\u001b[0;34m(\u001b[0m\u001b[0mapapun_tupple\u001b[0m\u001b[0;34m)\u001b[0m\u001b[0;34m\u001b[0m\u001b[0;34m\u001b[0m\u001b[0m\n",
            "\u001b[0;31mTypeError\u001b[0m: 'tuple' object does not support item assignment"
          ]
        }
      ]
    },
    {
      "cell_type": "markdown",
      "metadata": {
        "id": "LAm4UlBLKTYA"
      },
      "source": [
        "### Cara mengakses Array dan List"
      ]
    },
    {
      "cell_type": "code",
      "metadata": {
        "id": "vEFK3WS2KTYA",
        "colab": {
          "base_uri": "https://localhost:8080/",
          "height": 212
        },
        "outputId": "6c374f83-c8c9-4ecb-c2e0-6dd79bd03904"
      },
      "source": [
        "# Dihitung dari nol\n",
        "print(bilangan_kelipatan_empat[2]) #array\n",
        "print(apapun_list[4])\n",
        "print(apapun_tupple[3])"
      ],
      "execution_count": null,
      "outputs": [
        {
          "output_type": "error",
          "ename": "NameError",
          "evalue": "ignored",
          "traceback": [
            "\u001b[0;31m---------------------------------------------------------------------------\u001b[0m",
            "\u001b[0;31mNameError\u001b[0m                                 Traceback (most recent call last)",
            "\u001b[0;32m<ipython-input-15-1e8304bfc670>\u001b[0m in \u001b[0;36m<module>\u001b[0;34m()\u001b[0m\n\u001b[1;32m      1\u001b[0m \u001b[0;31m# Dihitung dari nol\u001b[0m\u001b[0;34m\u001b[0m\u001b[0;34m\u001b[0m\u001b[0;34m\u001b[0m\u001b[0m\n\u001b[0;32m----> 2\u001b[0;31m \u001b[0mprint\u001b[0m\u001b[0;34m(\u001b[0m\u001b[0mbilangan_kelipatan_empat\u001b[0m\u001b[0;34m[\u001b[0m\u001b[0;36m2\u001b[0m\u001b[0;34m]\u001b[0m\u001b[0;34m)\u001b[0m \u001b[0;31m#array\u001b[0m\u001b[0;34m\u001b[0m\u001b[0;34m\u001b[0m\u001b[0m\n\u001b[0m\u001b[1;32m      3\u001b[0m \u001b[0mprint\u001b[0m\u001b[0;34m(\u001b[0m\u001b[0mapapun_list\u001b[0m\u001b[0;34m[\u001b[0m\u001b[0;36m4\u001b[0m\u001b[0;34m]\u001b[0m\u001b[0;34m)\u001b[0m\u001b[0;34m\u001b[0m\u001b[0;34m\u001b[0m\u001b[0m\n\u001b[1;32m      4\u001b[0m \u001b[0mprint\u001b[0m\u001b[0;34m(\u001b[0m\u001b[0mapapun_tupple\u001b[0m\u001b[0;34m[\u001b[0m\u001b[0;36m3\u001b[0m\u001b[0;34m]\u001b[0m\u001b[0;34m)\u001b[0m\u001b[0;34m\u001b[0m\u001b[0;34m\u001b[0m\u001b[0m\n",
            "\u001b[0;31mNameError\u001b[0m: name 'bilangan_kelipatan_empat' is not defined"
          ]
        }
      ]
    },
    {
      "cell_type": "markdown",
      "metadata": {
        "id": "fRCUlVcFKTYA"
      },
      "source": [
        "### 3.4 Dictionary\n",
        "> Tipe data yang memiliki key dan value"
      ]
    },
    {
      "cell_type": "code",
      "metadata": {
        "id": "dMOMpasaKTYB"
      },
      "source": [
        "artis = {\n",
        "    'nama': \"Maudya Faza Ayunda\",\n",
        "    'umur': 25,\n",
        "    'berat_badan': 63.5,\n",
        "    'status_pernikahan': False\n",
        "}"
      ],
      "execution_count": null,
      "outputs": []
    },
    {
      "cell_type": "markdown",
      "metadata": {
        "id": "oUWUkCqcKTYB"
      },
      "source": [
        "### Cara mengakses Dictionary"
      ]
    },
    {
      "cell_type": "code",
      "metadata": {
        "id": "2VWuyxpLKTYC",
        "colab": {
          "base_uri": "https://localhost:8080/"
        },
        "outputId": "fceb8e7e-1343-4d3a-db26-d063e8571f0c"
      },
      "source": [
        "print(artis['nama'])\n",
        "print(artis['umur'])\n",
        "print(artis['berat_badan'])\n",
        "print(artis['status_pernikahan'])"
      ],
      "execution_count": null,
      "outputs": [
        {
          "output_type": "stream",
          "name": "stdout",
          "text": [
            "Maudya Faza Ayunda\n",
            "25\n",
            "63.5\n",
            "False\n"
          ]
        }
      ]
    },
    {
      "cell_type": "markdown",
      "metadata": {
        "id": "JmC_cvTZKTYC"
      },
      "source": [
        "### 3.5 Set\n",
        "> Tipe data yang tidak ada data duplikat di dalamnya dan sudah terurut"
      ]
    },
    {
      "cell_type": "code",
      "metadata": {
        "id": "bdcBoC2iKTYC",
        "colab": {
          "base_uri": "https://localhost:8080/"
        },
        "outputId": "729f2ad6-3007-47fa-f020-15014cb388e8"
      },
      "source": [
        "nama = \"Maudya Faza Ayunda\"\n",
        "nama = set(nama)\n",
        "set([2,4,24,3,43,1,32,0])"
      ],
      "execution_count": null,
      "outputs": [
        {
          "output_type": "execute_result",
          "data": {
            "text/plain": [
              "{0, 1, 2, 3, 4, 24, 32, 43}"
            ]
          },
          "metadata": {},
          "execution_count": 13
        }
      ]
    },
    {
      "cell_type": "markdown",
      "metadata": {
        "id": "ia4C27iGKTYD"
      },
      "source": [
        "---"
      ]
    },
    {
      "cell_type": "markdown",
      "metadata": {
        "id": "DIbI73esLYKc"
      },
      "source": [
        "## 4. Operator\n",
        "1. Operator Aritmatika\n",
        "2. Operator Perbandingan\n",
        "3. Operator Logika"
      ]
    },
    {
      "cell_type": "markdown",
      "metadata": {
        "id": "DLjeKTc0ME8q"
      },
      "source": [
        "### 4.1 Operator Aritmatika"
      ]
    },
    {
      "cell_type": "code",
      "metadata": {
        "colab": {
          "base_uri": "https://localhost:8080/"
        },
        "id": "74zN5PUbMKSM",
        "outputId": "b1d0849a-f7a8-4c00-e482-344d2f1a4a95"
      },
      "source": [
        "x = 7\n",
        "y = 5\n",
        "\n",
        "hasil_penjumlahan = x + y\n",
        "hasil_pengurangan = x - y\n",
        "hasil_perkalian = x * y\n",
        "hasil_pembagian = x / y\n",
        "hasil_modulus = x % y\n",
        "hasil_floor_division = x // y\n",
        "hasil_x_pangkat_y = x ** y\n",
        "\n",
        "print(\"Hasil x + y =\", hasil_penjumlahan)\n",
        "print(\"Hasil x - y =\", hasil_pengurangan)\n",
        "print(\"Hasil x * y =\", hasil_perkalian)\n",
        "print(\"Hasil x / y =\", hasil_pembagian)\n",
        "print(\"Hasil x % y =\", hasil_modulus)\n",
        "print(\"Hasil x // y =\", hasil_floor_division)\n",
        "print(\"Hasil x ** y =\", hasil_x_pangkat_y)"
      ],
      "execution_count": null,
      "outputs": [
        {
          "output_type": "stream",
          "name": "stdout",
          "text": [
            "Hasil x + y = 12\n",
            "Hasil x - y = 2\n",
            "Hasil x * y = 35\n",
            "Hasil x / y = 1.4\n",
            "Hasil x % y = 2\n",
            "Hasil x // y = 1\n",
            "Hasil x ** y = 16807\n"
          ]
        }
      ]
    },
    {
      "cell_type": "markdown",
      "metadata": {
        "id": "0IS0OYxvOLNH"
      },
      "source": [
        "### 4.2 Operator Perbandingan"
      ]
    },
    {
      "cell_type": "code",
      "metadata": {
        "colab": {
          "base_uri": "https://localhost:8080/"
        },
        "id": "hlRAhgfcOWWw",
        "outputId": "fca71fe7-11aa-48df-eeeb-6f9415b158da"
      },
      "source": [
        "print(\"x > y =\", x > y)\n",
        "print(\"x < y =\", x < y)\n",
        "print(\"x >= y =\", x >= y)\n",
        "print(\"x <= y =\", x <= y)\n",
        "print(\"x != y =\", x != y)\n",
        "print(\"x == y =\", x == y)"
      ],
      "execution_count": null,
      "outputs": [
        {
          "output_type": "stream",
          "name": "stdout",
          "text": [
            "x > y = True\n",
            "x < y = False\n",
            "x >= y = True\n",
            "x <= y = False\n",
            "x != y = True\n",
            "x == y = False\n"
          ]
        }
      ]
    },
    {
      "cell_type": "markdown",
      "metadata": {
        "id": "AL31yA2ePgsM"
      },
      "source": [
        "### 4.3 Operator Logika"
      ]
    },
    {
      "cell_type": "code",
      "metadata": {
        "id": "AbfE5HfzPl7Y"
      },
      "source": [
        "a = True\n",
        "b = False\n",
        "\n",
        "print(\"a and b = \", a and b)\n",
        "print(\"a or b = \", a or b)\n",
        "print(\"not(a) =\", not(a))"
      ],
      "execution_count": null,
      "outputs": []
    },
    {
      "cell_type": "markdown",
      "metadata": {
        "id": "7SZjXE9BKTYD"
      },
      "source": [
        "## 5. Percabangan (Conditional Statement)\n",
        "1. `if...else`\n",
        "2. `if...elif...else`"
      ]
    },
    {
      "cell_type": "markdown",
      "metadata": {
        "id": "6xtyznXpKTYE"
      },
      "source": [
        "### 5.1 `if...else`"
      ]
    },
    {
      "cell_type": "code",
      "metadata": {
        "id": "j8JFvSDmKTYE"
      },
      "source": [
        "nilai = 71\n",
        "\n",
        "if nilai > 70:\n",
        "    print(\"Selamat, kamu lulus\")\n",
        "else: # nilai_a <= 70\n",
        "    print(\"Yah, kamu harus mengulang\")"
      ],
      "execution_count": null,
      "outputs": []
    },
    {
      "cell_type": "markdown",
      "metadata": {
        "id": "ZmTpb6WlKTYF"
      },
      "source": [
        "### 5.2 `if...elif...else`"
      ]
    },
    {
      "cell_type": "code",
      "metadata": {
        "id": "QWILIqeqKTYF"
      },
      "source": [
        "if nilai >= 90:\n",
        "    print(\"Dapat nilai A\")\n",
        "elif nilai >= 80:\n",
        "    print(\"Dapat nilai B\")\n",
        "elif nilai > 70:\n",
        "    print(\"Dapat nilai C\")\n",
        "else:\n",
        "    print(\"Dapat nilai D. Yah kamu harus mengulang\")"
      ],
      "execution_count": null,
      "outputs": []
    },
    {
      "cell_type": "markdown",
      "metadata": {
        "id": "AO3VfQ-mQuWL"
      },
      "source": [
        "## 6. Perulangan (Loop)\n",
        "1. `for` Loop\n",
        "2. `while` Loop"
      ]
    },
    {
      "cell_type": "markdown",
      "metadata": {
        "id": "Eg6lldP5RAp2"
      },
      "source": [
        "### 6.1 `for` loop"
      ]
    },
    {
      "cell_type": "code",
      "metadata": {
        "id": "j0jHeiC4RIWa",
        "colab": {
          "base_uri": "https://localhost:8080/"
        },
        "outputId": "15966f5d-f097-4255-c777-0c03bf0cdf1b"
      },
      "source": [
        "for i in range(4):\n",
        "  print(\"Hello world! (iterasi ke-\", i, \")\")\n"
      ],
      "execution_count": null,
      "outputs": [
        {
          "output_type": "stream",
          "name": "stdout",
          "text": [
            "Hello world! (iterasi ke- 0 )\n",
            "Hello world! (iterasi ke- 1 )\n",
            "Hello world! (iterasi ke- 2 )\n",
            "Hello world! (iterasi ke- 3 )\n"
          ]
        }
      ]
    },
    {
      "cell_type": "code",
      "metadata": {
        "id": "8RNQ4TExRpzT",
        "colab": {
          "base_uri": "https://localhost:8080/"
        },
        "outputId": "87a0fc7a-1973-4d2c-82fe-ebb8704d2cb7"
      },
      "source": [
        "fruits = [\"Mangga\", \"Melon\", \"Pisang\", \"Apel\", \"Salak\"]\n",
        "for fruit in fruits:\n",
        "  print(\"Saya suka makan\", fruit)"
      ],
      "execution_count": null,
      "outputs": [
        {
          "output_type": "stream",
          "name": "stdout",
          "text": [
            "Saya suka makan Mangga\n",
            "Saya suka makan Melon\n",
            "Saya suka makan Pisang\n",
            "Saya suka makan Apel\n",
            "Saya suka makan Salak\n"
          ]
        }
      ]
    },
    {
      "cell_type": "markdown",
      "metadata": {
        "id": "RZBmBPZSRww-"
      },
      "source": [
        "### 6.2 `while` loop"
      ]
    },
    {
      "cell_type": "code",
      "metadata": {
        "id": "hkFNH2qbR38H",
        "colab": {
          "base_uri": "https://localhost:8080/"
        },
        "outputId": "3c8a5df8-f193-4839-b1ce-14703e4fa09e"
      },
      "source": [
        "j = 0\n",
        "while j < 10:\n",
        "  print(\"Hello friend (iterasi ke-\", j, \")\")\n",
        "  j += 1\n"
      ],
      "execution_count": null,
      "outputs": [
        {
          "output_type": "stream",
          "name": "stdout",
          "text": [
            "Hello friend (iterasi ke- 0 )\n",
            "Hello friend (iterasi ke- 1 )\n",
            "Hello friend (iterasi ke- 2 )\n",
            "Hello friend (iterasi ke- 3 )\n",
            "Hello friend (iterasi ke- 4 )\n",
            "Hello friend (iterasi ke- 5 )\n",
            "Hello friend (iterasi ke- 6 )\n",
            "Hello friend (iterasi ke- 7 )\n",
            "Hello friend (iterasi ke- 8 )\n",
            "Hello friend (iterasi ke- 9 )\n"
          ]
        }
      ]
    },
    {
      "cell_type": "markdown",
      "metadata": {
        "id": "JcZ0k-TZaZ-W"
      },
      "source": [
        "## Studi kasus: Penerimaan anggota koperasi sukanabung\n",
        "![Koperasi](https://pelayananpublik.id/wp-content/uploads/2020/02/Screenshot_20200221-232401_1.jpg)\n",
        "> Koperasi sukanabung ingin melakukan rekrutmen anggota baru. Adapun kriterianya adalah sebagai berikut.\n",
        "- Tabungan dalam satu bulan minimal 10.000 rupiah\n",
        "- Usia 17-25 tahun\n",
        "\n",
        "> Adapun calon anggota koperasi sukanabung adalah sebagai berikut:\n",
        "\n",
        "\n",
        "| No | Nama   | Jml Tabungan (perbulan) | usia |\n",
        "|----|--------|-------------------------|------|\n",
        "| 1  | Entong | 12000                   | 16   |\n",
        "| 2  | Eneng  | 10000                   | 17   |\n",
        "| 3  | Bobby  | 9000                    | 25   |\n",
        "| 4  | Amir   | 15000                   | 26   |\n",
        "| 5  | Rendi  | 9900                    | 23   |\n",
        "\n",
        "1. Buat data tersebut dalam bentuk dictionary\n",
        "2. Buat program sederhana untuk menentukan apakah calon - calon tersebut sudah layak untuk menjadi anggota baru koperasi sukanabung.\n",
        "3. Apabila ada calon anggota koperasi sukanabung yang tidak lolos, sebutkan alasannya mengapa yang bersangkutan tidak lolos.\n",
        "4. Siapa saja kah yang lolos?\n",
        "\n"
      ]
    },
    {
      "cell_type": "markdown",
      "metadata": {
        "id": "ge1GJRZmF-5S"
      },
      "source": [
        "1. Buat data tersebut dalam bentuk dictionary"
      ]
    },
    {
      "cell_type": "code",
      "metadata": {
        "id": "FRJocB-fabvl",
        "colab": {
          "base_uri": "https://localhost:8080/"
        },
        "outputId": "fd804d9a-f79e-47b1-a55f-c60d2a474c96"
      },
      "source": [
        "calon_anggota=[{\n",
        "    'nama':'Entong',\n",
        "    'jml_tabungan': 12000,\n",
        "    'usia': 16\n",
        "},{\n",
        "    'nama':'Eneng',\n",
        "    'jml_tabungan': 10000,\n",
        "    'usia': 17\n",
        "},{\n",
        "    'nama':'Bobby',\n",
        "    'jml_tabungan': 9000,\n",
        "    'usia': 25\n",
        "},{\n",
        "    'nama':'Amir',\n",
        "    'jml_tabungan': 15000,\n",
        "    'usia': 26\n",
        "},{\n",
        "    'nama':'Rendi',\n",
        "    'jml_tabungan': 9900,\n",
        "    'usia': 23\n",
        "}]\n",
        "\n",
        "for x in calon_anggota:\n",
        "  if x['jml_tabungan']>=10000:\n",
        "    if x['usia']>=17 and x['usia']<=25:\n",
        "      print(x['nama'],\"- Lolos\")\n",
        "    else:\n",
        "            print(x['nama'], \"- Gagal, usia tidak memenuhi tidak memenuhi kriteria\")\n",
        "  else:\n",
        "        print(x['nama'], \"- Gagal, jumlah tabungan perbulan tidak memenuhi tidak memenuhi kriteria\")"
      ],
      "execution_count": null,
      "outputs": [
        {
          "output_type": "stream",
          "name": "stdout",
          "text": [
            "Entong - Gagal, usia tidak memenuhi tidak memenuhi kriteria\n",
            "Eneng - Lolos\n",
            "Bobby - Gagal, jumlah tabungan perbulan tidak memenuhi tidak memenuhi kriteria\n",
            "Amir - Gagal, usia tidak memenuhi tidak memenuhi kriteria\n",
            "Rendi - Gagal, jumlah tabungan perbulan tidak memenuhi tidak memenuhi kriteria\n"
          ]
        }
      ]
    },
    {
      "cell_type": "markdown",
      "metadata": {
        "id": "f9Myli0YLjeM"
      },
      "source": [
        "2.Coba cara Lain"
      ]
    },
    {
      "cell_type": "code",
      "metadata": {
        "colab": {
          "base_uri": "https://localhost:8080/"
        },
        "id": "Y8EDCSn-Lc97",
        "outputId": "8020a479-c536-40d3-a2ad-be8c1580a22c"
      },
      "source": [
        "def calon(f):\n",
        "    must = dict()\n",
        "\n",
        "    for n in f:\n",
        "        if f[n] >= 10000:\n",
        "            must[n] = f[n]\n",
        "\n",
        "    return must\n",
        "\n",
        "\n",
        "if __name__ == \"__main__\":\n",
        "    list = {\n",
        "        \"Entong\": {12000,16},\n",
        "        \"Eneng\": {10000,17},\n",
        "        \"Bobby\": 9000,\n",
        "        \"Amir\": 15000,\n",
        "        \"Rendi\": 9900,\n",
        "    }\n",
        "    print(calon(list))\n"
      ],
      "execution_count": null,
      "outputs": [
        {
          "output_type": "stream",
          "name": "stdout",
          "text": [
            "{'Entong': 12000, 'Eneng': 10000, 'Amir': 15000}\n"
          ]
        }
      ]
    }
  ]
}